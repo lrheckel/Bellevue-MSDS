{
  "cells": [
    {
      "cell_type": "markdown",
      "metadata": {
        "id": "view-in-github",
        "colab_type": "text"
      },
      "source": [
        "<a href=\"https://colab.research.google.com/github/lrheckel/Bellevue-MSDS/blob/master/week02_session01_NB01_dictionaries.ipynb\" target=\"_parent\"><img src=\"https://colab.research.google.com/assets/colab-badge.svg\" alt=\"Open In Colab\"/></a>"
      ]
    },
    {
      "cell_type": "markdown",
      "id": "d0754f96",
      "metadata": {
        "id": "d0754f96"
      },
      "source": [
        "_Main topics covered during today's session:_\n",
        "\n",
        "This NB:\n",
        "\n",
        "1. **Intro to Dictionaries**\n",
        "    \n",
        "    \n",
        "Following NBs:\n",
        "\n",
        "2. **Default Dictionaries and Counter dictionaries**\n",
        "\n",
        "3. **Some example dictionary use cases**\n"
      ]
    },
    {
      "cell_type": "markdown",
      "id": "f94cf4ad",
      "metadata": {
        "id": "f94cf4ad"
      },
      "source": [
        "# Introduction to Dictionaries"
      ]
    },
    {
      "cell_type": "markdown",
      "id": "b9c55387",
      "metadata": {
        "id": "b9c55387"
      },
      "source": [
        "## What are Dictionaries in Python?"
      ]
    },
    {
      "cell_type": "markdown",
      "id": "9db25aa9",
      "metadata": {
        "id": "9db25aa9"
      },
      "source": [
        "Lists are an important data structure which allows us to store a set of values and they are indexed by integers. For example -  "
      ]
    },
    {
      "cell_type": "code",
      "execution_count": 3,
      "id": "6dbd70c7",
      "metadata": {
        "id": "6dbd70c7"
      },
      "outputs": [],
      "source": [
        "food_items = [\"apple\" , \"chicken\" , \"eggs\" , \"bread\"]"
      ]
    },
    {
      "cell_type": "markdown",
      "id": "14ba2d5e",
      "metadata": {
        "id": "14ba2d5e"
      },
      "source": [
        "You can access each element of the list by indexing. For example, if you have to get the third item, you can write - "
      ]
    },
    {
      "cell_type": "code",
      "execution_count": 4,
      "id": "15b64058",
      "metadata": {
        "id": "15b64058"
      },
      "outputs": [],
      "source": [
        "third_element = food_items[2]"
      ]
    },
    {
      "cell_type": "markdown",
      "id": "6bf80d02",
      "metadata": {
        "id": "6bf80d02"
      },
      "source": [
        "However, sometimes it is necessary to have index which are not integers. Say you have to store a phone book in a computer, it would make sense to have index as Person Name and then store phone number corresponding to each person. Dictionaries allows us to do just that. \n",
        "\n",
        "**So, in summary, a dictionary allows us to store a key,value pair and you have the flexibility to define the type of keys you want. You are not restricted to have integers as the index elements for accessing and addressing (like the way you do in a list)**\n",
        "\n",
        "In many other languages, dictionary data structure is also called a hash table."
      ]
    },
    {
      "cell_type": "markdown",
      "id": "432346d8",
      "metadata": {
        "id": "432346d8"
      },
      "source": [
        "## What Are Python Dictionaries Used for?"
      ]
    },
    {
      "cell_type": "markdown",
      "id": "52768f1a",
      "metadata": {
        "id": "52768f1a"
      },
      "source": [
        "Python dictionaries allow us to associate a value to a unique key, and then to quickly access this value. It’s a good idea to use them whenever we want to find (lookup for) a certain Python object. We can also use lists for this scope, **but they are much slower than dictionaries.**"
      ]
    },
    {
      "cell_type": "code",
      "execution_count": 5,
      "id": "2e23a307",
      "metadata": {
        "id": "2e23a307"
      },
      "outputs": [],
      "source": [
        "def find_number_in_list(lst, number):\n",
        "    if number in lst:\n",
        "        return True\n",
        "    else:\n",
        "        return False\n",
        "\n",
        "def find_number_in_dict(dct, number):\n",
        "    if number in dct.keys():\n",
        "        return True\n",
        "    else:\n",
        "        return False\n",
        "\n",
        "short_list = list(range(100))\n",
        "long_list = list(range(10000000))\n",
        "\n",
        "short_dict = {x:x*5 for x in range(1,100)}\n",
        "long_dict = {x:x*5 for x in range(1,10000000)}"
      ]
    },
    {
      "cell_type": "code",
      "execution_count": 6,
      "id": "e936c3f7",
      "metadata": {
        "colab": {
          "base_uri": "https://localhost:8080/"
        },
        "id": "e936c3f7",
        "outputId": "3b3955ed-c820-4e6b-87cd-44e116c2f8c7"
      },
      "outputs": [
        {
          "output_type": "stream",
          "name": "stdout",
          "text": [
            "1.3 µs ± 19.1 ns per loop (mean ± std. dev. of 7 runs, 1000000 loops each)\n"
          ]
        }
      ],
      "source": [
        "%timeit find_number_in_list(short_list, 99)"
      ]
    },
    {
      "cell_type": "code",
      "execution_count": 7,
      "id": "19e1632c",
      "metadata": {
        "colab": {
          "base_uri": "https://localhost:8080/"
        },
        "id": "19e1632c",
        "outputId": "5ad7e699-4096-4970-bd37-4c5fb6e78c2d"
      },
      "outputs": [
        {
          "output_type": "stream",
          "name": "stdout",
          "text": [
            "124 ms ± 3.5 ms per loop (mean ± std. dev. of 7 runs, 10 loops each)\n"
          ]
        }
      ],
      "source": [
        "%timeit find_number_in_list(long_list, 9999999)"
      ]
    },
    {
      "cell_type": "code",
      "execution_count": 8,
      "id": "d58a9632",
      "metadata": {
        "colab": {
          "base_uri": "https://localhost:8080/"
        },
        "id": "d58a9632",
        "outputId": "be986b3b-cfb4-4e89-b29f-1b408ce467a7"
      },
      "outputs": [
        {
          "output_type": "stream",
          "name": "stdout",
          "text": [
            "182 ns ± 1.75 ns per loop (mean ± std. dev. of 7 runs, 10000000 loops each)\n"
          ]
        }
      ],
      "source": [
        "%timeit find_number_in_dict(short_dict, 99)"
      ]
    },
    {
      "cell_type": "code",
      "execution_count": 9,
      "id": "678479e7",
      "metadata": {
        "colab": {
          "base_uri": "https://localhost:8080/"
        },
        "id": "678479e7",
        "outputId": "841f6735-c1aa-491c-bf4f-4f964a808521"
      },
      "outputs": [
        {
          "output_type": "stream",
          "name": "stdout",
          "text": [
            "206 ns ± 8.83 ns per loop (mean ± std. dev. of 7 runs, 1000000 loops each)\n"
          ]
        }
      ],
      "source": [
        "%timeit find_number_in_dict(long_dict, 9999999)"
      ]
    },
    {
      "cell_type": "markdown",
      "id": "56f643e5",
      "metadata": {
        "id": "56f643e5"
      },
      "source": [
        "This is because you have to go through the entire list to get what you want. However, a dictionary will return the value you ask for without going through all keys. \n",
        "\n",
        "**But this keep this in mind - Dictionaries still use more memory than lists, since you need to use space for the keys and the lookup as well, while lists use space only for the values.**"
      ]
    },
    {
      "cell_type": "markdown",
      "id": "228966d2",
      "metadata": {
        "id": "228966d2"
      },
      "source": [
        "## How to Create a Dictionary?"
      ]
    },
    {
      "cell_type": "markdown",
      "id": "f4cc7655",
      "metadata": {
        "id": "f4cc7655"
      },
      "source": [
        "### Method - 1"
      ]
    },
    {
      "cell_type": "code",
      "execution_count": 10,
      "id": "f2d357bb",
      "metadata": {
        "id": "f2d357bb"
      },
      "outputs": [],
      "source": [
        "dictionary = {} # Curly braces method\n",
        "another_dictionary = dict() # Dict method\n",
        "\n",
        "# Populate the dictionary\n",
        "dictionary[\"key1\"] = \"value1\"\n",
        "another_dictionary[\"key2\"] = \"value2\""
      ]
    },
    {
      "cell_type": "code",
      "execution_count": 11,
      "id": "b1632325",
      "metadata": {
        "colab": {
          "base_uri": "https://localhost:8080/"
        },
        "id": "b1632325",
        "outputId": "a3e036d7-fe86-4f31-d52b-7e0a83f9a746"
      },
      "outputs": [
        {
          "output_type": "stream",
          "name": "stdout",
          "text": [
            "{'key1': 'value1'}\n",
            "{'key2': 'value2'}\n"
          ]
        }
      ],
      "source": [
        "print(dictionary)\n",
        "print(another_dictionary)"
      ]
    },
    {
      "cell_type": "markdown",
      "id": "bcc57a6f",
      "metadata": {
        "id": "bcc57a6f"
      },
      "source": [
        "### Method - 2"
      ]
    },
    {
      "cell_type": "code",
      "execution_count": 12,
      "id": "8555c6bf",
      "metadata": {
        "colab": {
          "base_uri": "https://localhost:8080/"
        },
        "id": "8555c6bf",
        "outputId": "ad416c5d-45f7-4709-f69e-a169612b0288"
      },
      "outputs": [
        {
          "output_type": "stream",
          "name": "stdout",
          "text": [
            "{'key1': 'value1', 'key2': 'value2'}\n",
            "{'key1': 'value1', 'key2': 'value2'}\n",
            "{'key3': 'value3', 'key4': 'value4'}\n"
          ]
        }
      ],
      "source": [
        "# Keyword argument list\n",
        "dictionary = dict(key1=\"value1\", key2=\"value2\")\n",
        "another_dictionary = {\"key1\":\"value1\", \"key2\":\"value2\"}\n",
        "\n",
        "# Display the dictionary\n",
        "print(dictionary)\n",
        "print(another_dictionary)\n",
        "\n",
        "# List of tuples\n",
        "dictionary = dict([(\"key3\", \"value3\"), (\"key4\", \"value4\")])\n",
        "\n",
        "# Display the dictionary\n",
        "print(dictionary)"
      ]
    },
    {
      "cell_type": "code",
      "execution_count": 13,
      "id": "85ed04b7",
      "metadata": {
        "colab": {
          "base_uri": "https://localhost:8080/"
        },
        "id": "85ed04b7",
        "outputId": "c4bd56d6-6c9b-41f4-bbbf-5d09fc1bf0c0"
      },
      "outputs": [
        {
          "output_type": "stream",
          "name": "stdout",
          "text": [
            "value3\n"
          ]
        }
      ],
      "source": [
        "# Dictionary with duplicate keys\n",
        "duplicated_keys = {\"key1\": \"value1\", \"key1\": \"value2\", \"key1\": \"value3\"}\n",
        "\n",
        "# Access key1\n",
        "print(duplicated_keys[\"key1\"])"
      ]
    },
    {
      "cell_type": "code",
      "execution_count": 14,
      "id": "bbf174b1",
      "metadata": {
        "colab": {
          "base_uri": "https://localhost:8080/"
        },
        "id": "bbf174b1",
        "outputId": "a56e811e-5582-420c-85e8-c9d0e942e136"
      },
      "outputs": [
        {
          "output_type": "execute_result",
          "data": {
            "text/plain": [
              "{'key1': 'value3'}"
            ]
          },
          "metadata": {},
          "execution_count": 14
        }
      ],
      "source": [
        "duplicated_keys"
      ]
    },
    {
      "cell_type": "markdown",
      "id": "5cae39e4",
      "metadata": {
        "id": "5cae39e4"
      },
      "source": [
        "## Dictionary Comprehension"
      ]
    },
    {
      "cell_type": "markdown",
      "id": "68e79490",
      "metadata": {
        "id": "68e79490"
      },
      "source": [
        "![picture](https://raw.githubusercontent.com/gt-cse-6040/skills_oh_week_02/main/Screenshot%202023-01-22%20074704.png)"
      ]
    },
    {
      "cell_type": "code",
      "execution_count": 15,
      "id": "c40f6c87",
      "metadata": {
        "colab": {
          "base_uri": "https://localhost:8080/"
        },
        "id": "c40f6c87",
        "outputId": "948e29f6-da0c-4330-ffba-9e09e0563b1c"
      },
      "outputs": [
        {
          "output_type": "stream",
          "name": "stdout",
          "text": [
            "{'Alex': 69, 'Bob': 81, 'Carol': 88, 'Dave': 74, 'Flow': 18, 'Katie': 89, 'Nate': 32}\n"
          ]
        }
      ],
      "source": [
        "import random\n",
        "customers = [\"Alex\",\"Bob\",\"Carol\",\"Dave\",\"Flow\",\"Katie\",\"Nate\"]\n",
        "discount_dict = {customer:random.randint(1,100) for customer in customers}\n",
        "print(discount_dict)"
      ]
    },
    {
      "cell_type": "markdown",
      "id": "e3d85c3a",
      "metadata": {
        "id": "e3d85c3a"
      },
      "source": [
        "### Using two iterables"
      ]
    },
    {
      "cell_type": "markdown",
      "id": "913aff8f",
      "metadata": {
        "id": "913aff8f"
      },
      "source": [
        "![picture](https://raw.githubusercontent.com/gt-cse-6040/skills_oh_week_02/main/Screen%2520Shot%25202022-09-09%2520at%25209.20.39%2520AM.png)"
      ]
    },
    {
      "cell_type": "code",
      "execution_count": 16,
      "id": "b74b995e",
      "metadata": {
        "id": "b74b995e"
      },
      "outputs": [],
      "source": [
        "days = [\"Sunday\", \"Monday\",\"Tuesday\",\"Wednesday\",\"Thursday\",\"Friday\",\"Saturday\"]\n",
        "temp_C = [30.5,32.6,31.8,33.4,29.8,30.2,29.9]"
      ]
    },
    {
      "cell_type": "code",
      "execution_count": 17,
      "id": "2db77a51",
      "metadata": {
        "colab": {
          "base_uri": "https://localhost:8080/"
        },
        "id": "2db77a51",
        "outputId": "da6ab92b-ffff-4963-cd4f-3cb4db26efb8"
      },
      "outputs": [
        {
          "output_type": "stream",
          "name": "stdout",
          "text": [
            "{'Sunday': 30.5, 'Monday': 32.6, 'Tuesday': 31.8, 'Wednesday': 33.4, 'Thursday': 29.8, 'Friday': 30.2, 'Saturday': 29.9}\n"
          ]
        }
      ],
      "source": [
        "\n",
        "# Creating a dictionary of weekly tempertaures\n",
        "# from the list of temperatures and days\n",
        "# Note that we will cover zip in some detail next week,\n",
        "# when we also discuss the enumerate function\n",
        "\n",
        "weekly_temp = {day:temp for (day,temp) in zip(days,temp_C)}\n",
        "\n",
        "print(weekly_temp)"
      ]
    },
    {
      "cell_type": "markdown",
      "id": "2f31a843",
      "metadata": {
        "id": "2f31a843"
      },
      "source": [
        "Good Links - \n",
        "\n",
        "1. https://realpython.com/python-dicts/\n",
        "2. https://www.programiz.com/python-programming/dictionary-comprehension"
      ]
    },
    {
      "cell_type": "markdown",
      "id": "577113c0",
      "metadata": {
        "id": "577113c0"
      },
      "source": [
        "## Dictionary Methods"
      ]
    },
    {
      "cell_type": "markdown",
      "id": "a1af680d",
      "metadata": {
        "id": "a1af680d"
      },
      "source": [
        "### update()"
      ]
    },
    {
      "cell_type": "code",
      "execution_count": 18,
      "id": "dcf7fbcc",
      "metadata": {
        "colab": {
          "base_uri": "https://localhost:8080/"
        },
        "id": "dcf7fbcc",
        "outputId": "7ea17f3f-0b64-4a48-97f9-544c0a4343f3"
      },
      "outputs": [
        {
          "output_type": "stream",
          "name": "stdout",
          "text": [
            "{'Harry Potter': 'Gryffindor', 'Ron Weasley': 'Gryffindor', 'Hermione Granger': 'Gryffindor'}\n"
          ]
        }
      ],
      "source": [
        "# Create a Harry Potter dictionary\n",
        "harry_potter_dict = {\n",
        "    \"Harry Potter\": \"Gryffindor\",\n",
        "    \"Ron Weasley\": \"Gryffindor\",\n",
        "    \"Hermione Granger\": \"Gryffindor\"\n",
        "}\n",
        "\n",
        "# Display the dictionary\n",
        "print(harry_potter_dict)"
      ]
    },
    {
      "cell_type": "code",
      "execution_count": 19,
      "id": "c67bba81",
      "metadata": {
        "colab": {
          "base_uri": "https://localhost:8080/"
        },
        "id": "c67bba81",
        "outputId": "06fc5146-5c78-4287-f6c8-0745dd12e124"
      },
      "outputs": [
        {
          "output_type": "stream",
          "name": "stdout",
          "text": [
            "{'Harry Potter': 'Gryffindor', 'Ron Weasley': 'Gryffindor', 'Hermione Granger': 'Gryffindor', 'Albus Dumbledore': 'Gryffindor', 'Luna Lovegood': 'Ravenclaw'}\n"
          ]
        }
      ],
      "source": [
        "# Characters to add to the Harry Potter dictionary\n",
        "add_characters_1 = {\n",
        "    \"Albus Dumbledore\": \"Gryffindor\",\n",
        "    \"Luna Lovegood\": \"Ravenclaw\"\n",
        "}\n",
        "\n",
        "# Merge dictionaries\n",
        "harry_potter_dict.update(add_characters_1)\n",
        "\n",
        "# Display the dictionary\n",
        "print(harry_potter_dict)"
      ]
    },
    {
      "cell_type": "code",
      "execution_count": 20,
      "id": "2d352283",
      "metadata": {
        "colab": {
          "base_uri": "https://localhost:8080/"
        },
        "id": "2d352283",
        "outputId": "fdd42e01-267d-4ef9-e4d0-1df524fe2d92"
      },
      "outputs": [
        {
          "output_type": "stream",
          "name": "stdout",
          "text": [
            "{'Harry Potter': 'Gryffindor', 'Ron Weasley': 'Gryffindor', 'Hermione Granger': 'Gryffindor', 'Albus Dumbledore': 'Gryffindor', 'Luna Lovegood': 'Ravenclaw', 'Draco Malfoy': 'Slytherin', 'Cedric Diggory': 'Hufflepuff'}\n"
          ]
        }
      ],
      "source": [
        "# Use iterables to update a dictionary\n",
        "add_characters_2 = [\n",
        "    [\"Draco Malfoy\", \"Slytherin\"],\n",
        "    [\"Cedric Diggory\", \"Hufflepuff\"]\n",
        "]\n",
        "harry_potter_dict.update(add_characters_2)\n",
        "\n",
        "print(harry_potter_dict)"
      ]
    },
    {
      "cell_type": "code",
      "execution_count": 21,
      "id": "3b4ffb5f",
      "metadata": {
        "colab": {
          "base_uri": "https://localhost:8080/"
        },
        "id": "3b4ffb5f",
        "outputId": "1ea1481a-acc8-4869-c3a8-9d58e4816874"
      },
      "outputs": [
        {
          "output_type": "stream",
          "name": "stdout",
          "text": [
            "{'Harry Potter': 'Gryffindor', 'Ron Weasley': 'Gryffindor', 'Hermione Granger': 'Gryffindor', 'Albus Dumbledore': 'Gryffindor', 'Luna Lovegood': 'Ravenclaw', 'Draco Malfoy': 'Slytherin', 'Cedric Diggory': 'Hufflepuff', 'Rubeus Hagrid': 'Gryffindor', 'Minerva McGonagall': 'Gryffindor'}\n"
          ]
        }
      ],
      "source": [
        "# Use iterables to update a dictionary\n",
        "add_characters_3 = [\n",
        "    (\"Rubeus Hagrid\", \"Gryffindor\"),\n",
        "    (\"Minerva McGonagall\", \"Gryffindor\")\n",
        "]\n",
        "harry_potter_dict.update(add_characters_3)\n",
        "\n",
        "print(harry_potter_dict)"
      ]
    },
    {
      "cell_type": "markdown",
      "id": "709620ce",
      "metadata": {
        "id": "709620ce"
      },
      "source": [
        "### del"
      ]
    },
    {
      "cell_type": "code",
      "execution_count": 22,
      "id": "1b60e26b",
      "metadata": {
        "colab": {
          "base_uri": "https://localhost:8080/"
        },
        "id": "1b60e26b",
        "outputId": "73aee138-6697-4fed-8052-63db9053c2ed"
      },
      "outputs": [
        {
          "output_type": "stream",
          "name": "stdout",
          "text": [
            "{'Harry Potter': 'Gryffindor', 'Ron Weasley': 'Gryffindor', 'Hermione Granger': 'Gryffindor', 'Albus Dumbledore': 'Gryffindor', 'Luna Lovegood': 'Ravenclaw', 'Draco Malfoy': 'Slytherin', 'Cedric Diggory': 'Hufflepuff', 'Rubeus Hagrid': 'Gryffindor'}\n"
          ]
        }
      ],
      "source": [
        "# Delete a key:value pair\n",
        "del harry_potter_dict[\"Minerva McGonagall\"]\n",
        "\n",
        "print(harry_potter_dict)"
      ]
    },
    {
      "cell_type": "code",
      "execution_count": 23,
      "id": "bf1a264d",
      "metadata": {
        "id": "bf1a264d"
      },
      "outputs": [],
      "source": [
        "# Delete a key:value pair that doesn't exist in the dictionary\n",
        "# This code errors out, uncomment to see the error\n",
        "# del harry_potter_dict[\"Voldemort\"]"
      ]
    },
    {
      "cell_type": "markdown",
      "id": "e2b2f33f",
      "metadata": {
        "id": "e2b2f33f"
      },
      "source": [
        "### keys(), values() , items()"
      ]
    },
    {
      "cell_type": "code",
      "execution_count": 24,
      "id": "3be0e499",
      "metadata": {
        "colab": {
          "base_uri": "https://localhost:8080/"
        },
        "id": "3be0e499",
        "outputId": "807b5e8d-66d5-4d64-ca7a-e11d1ee792ac"
      },
      "outputs": [
        {
          "output_type": "stream",
          "name": "stdout",
          "text": [
            "dict_items([('Harry Potter', 'Gryffindor'), ('Ron Weasley', 'Gryffindor'), ('Hermione Granger', 'Gryffindor'), ('Albus Dumbledore', 'Gryffindor'), ('Luna Lovegood', 'Ravenclaw'), ('Draco Malfoy', 'Slytherin'), ('Cedric Diggory', 'Hufflepuff'), ('Rubeus Hagrid', 'Gryffindor')])\n"
          ]
        }
      ],
      "source": [
        "print(harry_potter_dict.items())"
      ]
    },
    {
      "cell_type": "code",
      "execution_count": 25,
      "id": "eaf9657f",
      "metadata": {
        "colab": {
          "base_uri": "https://localhost:8080/"
        },
        "id": "eaf9657f",
        "outputId": "c8030d50-7a5b-4341-c4bf-0fcd275d29d1"
      },
      "outputs": [
        {
          "output_type": "stream",
          "name": "stdout",
          "text": [
            "dict_keys(['Harry Potter', 'Ron Weasley', 'Hermione Granger', 'Albus Dumbledore', 'Luna Lovegood', 'Draco Malfoy', 'Cedric Diggory', 'Rubeus Hagrid'])\n"
          ]
        }
      ],
      "source": [
        "print(harry_potter_dict.keys())"
      ]
    },
    {
      "cell_type": "code",
      "execution_count": 26,
      "id": "1a901dc1",
      "metadata": {
        "colab": {
          "base_uri": "https://localhost:8080/"
        },
        "id": "1a901dc1",
        "outputId": "71419f04-4d98-4889-a6c8-f5ac74da0407"
      },
      "outputs": [
        {
          "output_type": "stream",
          "name": "stdout",
          "text": [
            "dict_values(['Gryffindor', 'Gryffindor', 'Gryffindor', 'Gryffindor', 'Ravenclaw', 'Slytherin', 'Hufflepuff', 'Gryffindor'])\n"
          ]
        }
      ],
      "source": [
        "print(harry_potter_dict.values())"
      ]
    },
    {
      "cell_type": "markdown",
      "id": "125cfd8b",
      "metadata": {
        "id": "125cfd8b"
      },
      "source": [
        "## Looping Through a Dictionary"
      ]
    },
    {
      "cell_type": "code",
      "execution_count": 27,
      "id": "2e62d3c8",
      "metadata": {
        "colab": {
          "base_uri": "https://localhost:8080/"
        },
        "id": "2e62d3c8",
        "outputId": "d05cee1c-8fda-43be-8724-283b7bf2e9b9"
      },
      "outputs": [
        {
          "output_type": "stream",
          "name": "stdout",
          "text": [
            "('Harry Potter', 'Gryffindor')\n",
            "('Ron Weasley', 'Gryffindor')\n",
            "('Hermione Granger', 'Gryffindor')\n",
            "('Albus Dumbledore', 'Gryffindor')\n",
            "('Luna Lovegood', 'Ravenclaw')\n",
            "('Draco Malfoy', 'Slytherin')\n",
            "('Cedric Diggory', 'Hufflepuff')\n",
            "('Rubeus Hagrid', 'Gryffindor')\n"
          ]
        }
      ],
      "source": [
        "for key, value in harry_potter_dict.items():\n",
        "    print((key, value))"
      ]
    },
    {
      "cell_type": "code",
      "execution_count": 28,
      "id": "6caeb710",
      "metadata": {
        "colab": {
          "base_uri": "https://localhost:8080/"
        },
        "id": "6caeb710",
        "outputId": "da526171-3b92-47e0-deba-7370a62e00b4"
      },
      "outputs": [
        {
          "output_type": "stream",
          "name": "stdout",
          "text": [
            "('Harry Potter', 'Gryffindor')\n",
            "('Ron Weasley', 'Gryffindor')\n",
            "('Hermione Granger', 'Gryffindor')\n",
            "('Albus Dumbledore', 'Gryffindor')\n",
            "('Luna Lovegood', 'Ravenclaw')\n",
            "('Draco Malfoy', 'Slytherin')\n",
            "('Cedric Diggory', 'Hufflepuff')\n",
            "('Rubeus Hagrid', 'Gryffindor')\n"
          ]
        }
      ],
      "source": [
        "# Alternatively\n",
        "for key_value in harry_potter_dict.items():\n",
        "    print(key_value)"
      ]
    },
    {
      "cell_type": "code",
      "execution_count": 29,
      "id": "91970bfe",
      "metadata": {
        "colab": {
          "base_uri": "https://localhost:8080/"
        },
        "id": "91970bfe",
        "outputId": "32cf3725-b7a8-4712-c58c-2f0f57828783"
      },
      "outputs": [
        {
          "output_type": "stream",
          "name": "stdout",
          "text": [
            "The current key is Harry Potter and its value is Gryffindor.\n",
            "The current key is Ron Weasley and its value is Gryffindor.\n",
            "The current key is Hermione Granger and its value is Gryffindor.\n",
            "The current key is Albus Dumbledore and its value is Gryffindor.\n",
            "The current key is Luna Lovegood and its value is Ravenclaw.\n",
            "The current key is Draco Malfoy and its value is Slytherin.\n",
            "The current key is Cedric Diggory and its value is Hufflepuff.\n",
            "The current key is Rubeus Hagrid and its value is Gryffindor.\n"
          ]
        }
      ],
      "source": [
        "for key, value in harry_potter_dict.items():\n",
        "    print(f\"The current key is {key} and its value is {value}.\")"
      ]
    },
    {
      "cell_type": "code",
      "execution_count": 30,
      "id": "c44a8b37",
      "metadata": {
        "colab": {
          "base_uri": "https://localhost:8080/"
        },
        "id": "c44a8b37",
        "outputId": "da80511c-947d-47a7-d638-4ad1fb0ecc7b"
      },
      "outputs": [
        {
          "output_type": "stream",
          "name": "stdout",
          "text": [
            "Harry Potter\n",
            "Ron Weasley\n",
            "Hermione Granger\n",
            "Albus Dumbledore\n",
            "Luna Lovegood\n",
            "Draco Malfoy\n",
            "Cedric Diggory\n",
            "Rubeus Hagrid\n"
          ]
        }
      ],
      "source": [
        "# Loop only through the keys\n",
        "for key in harry_potter_dict.keys():\n",
        "    print(key)"
      ]
    },
    {
      "cell_type": "code",
      "execution_count": 31,
      "id": "7de1f961",
      "metadata": {
        "colab": {
          "base_uri": "https://localhost:8080/"
        },
        "id": "7de1f961",
        "outputId": "f88e9530-38c7-4eeb-f051-de06a92f16c2"
      },
      "outputs": [
        {
          "output_type": "stream",
          "name": "stdout",
          "text": [
            "Gryffindor\n",
            "Gryffindor\n",
            "Gryffindor\n",
            "Gryffindor\n",
            "Ravenclaw\n",
            "Slytherin\n",
            "Hufflepuff\n",
            "Gryffindor\n"
          ]
        }
      ],
      "source": [
        "# Loop only through the values\n",
        "for value in harry_potter_dict.values():\n",
        "    print(value)"
      ]
    }
  ],
  "metadata": {
    "kernelspec": {
      "display_name": "Python 3 (ipykernel)",
      "language": "python",
      "name": "python3"
    },
    "language_info": {
      "codemirror_mode": {
        "name": "ipython",
        "version": 3
      },
      "file_extension": ".py",
      "mimetype": "text/x-python",
      "name": "python",
      "nbconvert_exporter": "python",
      "pygments_lexer": "ipython3",
      "version": "3.9.13"
    },
    "colab": {
      "provenance": [],
      "include_colab_link": true
    }
  },
  "nbformat": 4,
  "nbformat_minor": 5
}