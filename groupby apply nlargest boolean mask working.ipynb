{
  "cells": [
    {
      "cell_type": "markdown",
      "metadata": {
        "id": "view-in-github",
        "colab_type": "text"
      },
      "source": [
        "<a href=\"https://colab.research.google.com/github/lrheckel/Bellevue-MSDS/blob/master/groupby%20apply%20nlargest%20boolean%20mask%20working.ipynb\" target=\"_parent\"><img src=\"https://colab.research.google.com/assets/colab-badge.svg\" alt=\"Open In Colab\"/></a>"
      ]
    },
    {
      "cell_type": "markdown",
      "id": "ea694165",
      "metadata": {
        "id": "ea694165"
      },
      "source": [
        "_Main topics covered during today's session:_\n",
        "\n",
        "This NB (some important pandas functions):\n",
        "\n",
        "1. **groupby and apply**\n",
        "2. **nlargest, using sum, and mean functions**\n",
        "3. **boolean mask**\n",
        "4. **complex analysis using all of the above**   "
      ]
    },
    {
      "cell_type": "markdown",
      "id": "9a561af0",
      "metadata": {
        "id": "9a561af0"
      },
      "source": [
        "## The purpose of this notebook is to work through some pandas functions and concepts that are commonly used in data analysis. The types of analyses that we cover here are ones that you could possibly be asked to recreate in some fashion, before the semester's end."
      ]
    },
    {
      "cell_type": "code",
      "execution_count": null,
      "id": "0ac602ce",
      "metadata": {
        "id": "0ac602ce"
      },
      "outputs": [],
      "source": [
        "!wget https://raw.githubusercontent.com/gt-cse-6040/topic_07_pandas_apply_functions/main/nba_stats.csv\n",
        "!wget https://raw.githubusercontent.com/gt-cse-6040/topic_07_pandas_apply_functions/main/worst_players.csv\n",
        "!wget https://raw.githubusercontent.com/gt-cse-6040/topic_07_pandas_apply_functions/main/best_players.csv\n",
        "!wget https://raw.githubusercontent.com/gt-cse-6040/topic_07_pandas_apply_functions/main/top_rebs.csv\n",
        "!wget https://raw.githubusercontent.com/gt-cse-6040/topic_07_pandas_apply_functions/main/top_mins.csv"
      ]
    },
    {
      "cell_type": "code",
      "execution_count": null,
      "id": "4c736fc0",
      "metadata": {
        "id": "4c736fc0"
      },
      "outputs": [],
      "source": [
        "# some modules we will need\n",
        "import pandas as pd\n",
        "import numpy as np"
      ]
    },
    {
      "cell_type": "markdown",
      "id": "fe355e3d",
      "metadata": {
        "id": "fe355e3d"
      },
      "source": [
        "We will be using some data from the National Basketball Association's (NBA) statistics API for this exercise. The data is from the 2017-2020 seasons and include the major statistics for players.\n",
        "\n",
        "We will import the data into a dataframe called nba_stats and take a quick look at the data."
      ]
    },
    {
      "cell_type": "code",
      "execution_count": null,
      "id": "4cdda691",
      "metadata": {
        "id": "4cdda691"
      },
      "outputs": [],
      "source": [
        "# load the data file\n",
        "# bring in the sample output file\n",
        "nba_stats = pd.read_csv('nba_stats.csv')\n",
        "nba_stats.head(5)"
      ]
    },
    {
      "cell_type": "markdown",
      "id": "9b6f407d",
      "metadata": {
        "id": "9b6f407d"
      },
      "source": [
        "#### The info() and describe() functions are good to use when first looking at a dataframe.\n",
        "\n",
        "info() gives us column information, and describe() gives us some statistical measurements of the dataframe."
      ]
    },
    {
      "cell_type": "code",
      "execution_count": null,
      "id": "f480d782",
      "metadata": {
        "id": "f480d782"
      },
      "outputs": [],
      "source": [
        "nba_stats.info()\n",
        "nba_stats.describe()"
      ]
    },
    {
      "cell_type": "markdown",
      "id": "a3b6b894",
      "metadata": {
        "id": "a3b6b894"
      },
      "source": [
        "### Before we get started on the functions, let's take a quick look at some of the key data fields that we will be working with, and some fields whose meaning may not be easily discernble from the name.\n",
        "\n",
        "- `PLAYER_ID` - The unique ID number for each player.\n",
        "- `SEASON_ID` - The ID number for each season. The combination of PLAYER_ID and SEASON_ID gives us the primary key for the dataframe.\n",
        "\n",
        "#### Note that there are 2,139 rows in the dataframe. That means we have 2,139 unique player-season combinations.\n",
        "\n",
        "- `GP` - Games played during the season.\n",
        "- `MIN` through `PLUS_MINUS` columns- The individual statistics for the player for that season. Whenever we are working with one of the columns, we will define what that column means in the exercise.\n",
        "- `*_RANK` - The place that the player ranks for the season for that particular statistic. There is a `*_RANK` column corresponding to each statistical column.\n"
      ]
    },
    {
      "cell_type": "markdown",
      "id": "d375e0c8",
      "metadata": {
        "id": "d375e0c8"
      },
      "source": [
        "We are not going to work with EVERY column in the dataframe, so let's create a dataframe with a subset of columns that we will be interested in."
      ]
    },
    {
      "cell_type": "code",
      "execution_count": null,
      "id": "fddb8e0e",
      "metadata": {
        "id": "fddb8e0e"
      },
      "outputs": [],
      "source": [
        "nba_stats_2 = nba_stats[['SEASON_ID','PLAYER_NAME','GP','MIN','PTS','REB','BLK','TOV','PLUS_MINUS']]\n",
        "nba_stats_2.head(5)"
      ]
    },
    {
      "cell_type": "markdown",
      "id": "96906027",
      "metadata": {
        "id": "96906027"
      },
      "source": [
        "### Let's do a quick review of the apply() function\n",
        "\n",
        "`apply()` is used to apply a function to a data frame or to a series (column of the data frame).\n",
        "\n",
        "The basic way to use the function is:\n",
        "\n",
        "out = `dataframe`.apply(`func`)\n",
        "\n",
        "https://pandas.pydata.org/pandas-docs/stable/reference/api/pandas.DataFrame.apply.html"
      ]
    },
    {
      "cell_type": "code",
      "execution_count": null,
      "id": "7abac3dd",
      "metadata": {
        "id": "7abac3dd"
      },
      "outputs": [],
      "source": [
        "# inline help\n",
        "# help(df.apply)"
      ]
    },
    {
      "cell_type": "markdown",
      "id": "44335399",
      "metadata": {
        "id": "44335399"
      },
      "source": [
        "### Use the apply() function on a single column of the dataframe"
      ]
    },
    {
      "cell_type": "markdown",
      "id": "060de27f",
      "metadata": {
        "id": "060de27f"
      },
      "source": [
        "Pass a built-in function to apply().\n",
        "\n",
        "What is the average number of games that a player played in during any season?"
      ]
    },
    {
      "cell_type": "code",
      "execution_count": null,
      "id": "1cd58707",
      "metadata": {
        "id": "1cd58707"
      },
      "outputs": [],
      "source": [
        "# note the syntax of using the DOUBLE BRACKETS around the column name.\n",
        "mean_value = nba_stats_2[['GP']].apply(np.mean)\n",
        "print(mean_value)\n",
        "\n",
        "nba_stats_2[['GP']].apply(np.mean)"
      ]
    },
    {
      "cell_type": "markdown",
      "id": "40c282a9",
      "metadata": {
        "id": "40c282a9"
      },
      "source": [
        "#### We can also use the apply function on multiple columns or the entire dataframe, but to do so, all of the dataframe columns must be able to be operated on by the function we are applying. With this data, we can apply to multiple columns that are INT and FLOAT, but not to the entire dataframe, because we also have OBJECT data types.\n",
        "\n",
        "What is the average number of games, points scored, and rebounds for a player in a season?"
      ]
    },
    {
      "cell_type": "code",
      "execution_count": null,
      "id": "bfdfeaff",
      "metadata": {
        "scrolled": true,
        "id": "bfdfeaff"
      },
      "outputs": [],
      "source": [
        "nba_stats_2[['GP','PTS','REB']].apply(np.mean)\n",
        "\n",
        "# returns value error of \"could not convert string to float\"\n",
        "#nba_stats_2.apply(np.mean)"
      ]
    },
    {
      "cell_type": "markdown",
      "id": "1aaea437",
      "metadata": {
        "id": "1aaea437"
      },
      "source": [
        "As you can see, the functions returns a value for each column.\n",
        "\n",
        "That is to say, the default way of apply( ) dealing with a dataframe is to take a whole column each time and operate on that column with the function passed.\n",
        "\n",
        "We can change this default setting by specifying the `axis` parameter, in which axis=0 (the default) applies by column and axis=1 applies by row. We will not demonstrate row-based apply with this dataset."
      ]
    },
    {
      "cell_type": "markdown",
      "id": "65ac91e7",
      "metadata": {
        "id": "65ac91e7"
      },
      "source": [
        "### Let's do a quick review of the groupby() function\n",
        "\n",
        "A `groupby()` operation involves some combination of splitting the object, applying a function, and combining the results. This can be used to group large amounts of data and compute operations on these groups.\n",
        "\n",
        "The basic way to use the function is:\n",
        "\n",
        "out = `dataframe`.groupby(by=columnname).`function`()\n",
        "\n",
        "For example:\n",
        "\n",
        "df.groupby(by=[\"b\"]).sum()\n",
        "\n",
        "https://pandas.pydata.org/pandas-docs/stable/reference/api/pandas.DataFrame.groupby.html"
      ]
    },
    {
      "cell_type": "code",
      "execution_count": null,
      "id": "0fb4c5a4",
      "metadata": {
        "id": "0fb4c5a4"
      },
      "outputs": [],
      "source": [
        "# inline help\n",
        "# help(df.groupby)"
      ]
    },
    {
      "cell_type": "markdown",
      "id": "8615e245",
      "metadata": {
        "id": "8615e245"
      },
      "source": [
        "Let's see how this works."
      ]
    },
    {
      "cell_type": "code",
      "execution_count": null,
      "id": "2808f866",
      "metadata": {
        "id": "2808f866"
      },
      "outputs": [],
      "source": [
        "nba_stats_2.groupby(by=[\"SEASON_ID\"]).mean()"
      ]
    },
    {
      "cell_type": "markdown",
      "id": "76bc4f2a",
      "metadata": {
        "id": "76bc4f2a"
      },
      "source": [
        "So what `groupby()` on its own does is a dataframe-wide grouping of every APPLICABLE column of the passed-in function, using the \"by\" parameter that we set. Note that the groupby above does not include the OBJECT column of NAME."
      ]
    },
    {
      "cell_type": "markdown",
      "id": "c31fe5ee",
      "metadata": {
        "id": "c31fe5ee"
      },
      "source": [
        "However, we very seldom want to group an entire df in our analyses. Instead we want to generally:\n",
        "\n",
        "1. Return statistical analyses for individual or multiple columns\n",
        "2. Grouped by multiple dimensions (columns).\n",
        "\n",
        "### So how do we do that? By using `groupby()` and `apply()` together."
      ]
    },
    {
      "cell_type": "markdown",
      "id": "e1d3fc9e",
      "metadata": {
        "id": "e1d3fc9e"
      },
      "source": [
        "**The syntax for a single column looks like:**\n",
        "\n",
        "dataframe.groupby('columnname').apply(function)\n",
        "\n",
        "**The syntax for a multiple columns looks like:**\n",
        "\n",
        "dataframe.groupby(['columnname1','columnname2']).apply(function)\n",
        "\n",
        "Remember that using `axis=0` (the default) will apply the given function to each *column* and `axis=1` will apply the given function to each *row*.\n",
        "\n",
        "While `Series.apply` works on individual values and `DataFrame.apply` works on `Series` objects (rows or columns are instances of `Series`), `groupby.apply` works on `DataFrame` objects. The cell below is applying the `print` function to each `DataFrame` or \"group\" in the `groupby`!"
      ]
    },
    {
      "cell_type": "code",
      "execution_count": null,
      "id": "098aa45f",
      "metadata": {
        "id": "098aa45f"
      },
      "outputs": [],
      "source": [
        "nba_stats_2.groupby('SEASON_ID').apply(np.sum, axis=0)"
      ]
    },
    {
      "cell_type": "code",
      "execution_count": null,
      "id": "51d47f84",
      "metadata": {
        "id": "51d47f84"
      },
      "outputs": [],
      "source": [
        "nba_stats_2.groupby('SEASON_ID').apply(np.mean, axis=0)"
      ]
    },
    {
      "cell_type": "markdown",
      "id": "b15f6b97",
      "metadata": {
        "id": "b15f6b97"
      },
      "source": [
        "Note the difference in behavior between apply() alone, groupby() alone, and groupby.apply() together.\n",
        "\n",
        "1. `apply()` by itself gives us the function result for the columns/rows IT IS ABLE TO OPERATE ON. As we saw above, if we try to perform a function on an incompatible column/row, it will return an error.\n",
        "\n",
        "2. `groupby()` by itself ALSO gives us the function result for the columns/rows IT IS ABLE TO OPERATE ON. However, it will simply not include the columns that the function cannot operate on in, the result set.\n",
        "\n",
        "3. `groupby()` `apply()` together will return the function result for the columns/rows IT IS ABLE TO OPERATE ON, similar to `groupby()` alone. However, the difference is with the PLAYER_NAME column, in that the sum() function \"added\" the player names by concatenating (using \"+\") the strings together. Using np.mean() gave us the result with the \"nuisance columns\" error message."
      ]
    },
    {
      "cell_type": "markdown",
      "id": "5371c8ea",
      "metadata": {
        "id": "5371c8ea"
      },
      "source": [
        "### So how might we want to use this is in a real (or testing) scenario?\n",
        "\n",
        "Return a dataframe that summarizes the total minutes, games played, point, rebounds, blocks, and turnovers for each player, over the 4 seasons."
      ]
    },
    {
      "cell_type": "code",
      "execution_count": null,
      "id": "e464291b",
      "metadata": {
        "id": "e464291b"
      },
      "outputs": [],
      "source": [
        "nba_stats_2.groupby('PLAYER_NAME').apply(np.sum, axis=0)"
      ]
    },
    {
      "cell_type": "markdown",
      "id": "7b582fba",
      "metadata": {
        "id": "7b582fba"
      },
      "source": [
        "So what is the problem with this returned dataframe? And how can we fix it?\n",
        "\n",
        "Two ways of fixing (and either one works fine).\n",
        "\n",
        "1. Create a new dataframe by setting your (possible) grouping columns as indices. We will use this method for the remainder of the notebook.\n",
        "2. Create a new dataframe by keeping only the columns necessary for that particular analysis. We leave this method up to the students to work through."
      ]
    },
    {
      "cell_type": "code",
      "execution_count": null,
      "id": "d5c51e3a",
      "metadata": {
        "id": "d5c51e3a"
      },
      "outputs": [],
      "source": [
        "# Setting the possible grouping columns as indices.\n",
        "nba_stats_3 = nba_stats_2.set_index(['PLAYER_NAME','SEASON_ID'])"
      ]
    },
    {
      "cell_type": "code",
      "execution_count": null,
      "id": "ab3f892e",
      "metadata": {
        "id": "ab3f892e"
      },
      "outputs": [],
      "source": [
        "nba_stats_3.head()"
      ]
    },
    {
      "cell_type": "code",
      "execution_count": null,
      "id": "99e47f76",
      "metadata": {
        "id": "99e47f76"
      },
      "outputs": [],
      "source": [
        "nba_stats_3.groupby('SEASON_ID').apply(np.sum, axis=0)"
      ]
    },
    {
      "cell_type": "code",
      "execution_count": null,
      "id": "15c45852",
      "metadata": {
        "id": "15c45852"
      },
      "outputs": [],
      "source": [
        "nba_stats_3.groupby('PLAYER_NAME').apply(np.sum, axis=0)"
      ]
    },
    {
      "cell_type": "code",
      "execution_count": null,
      "id": "5ccec187",
      "metadata": {
        "id": "5ccec187"
      },
      "outputs": [],
      "source": [
        "nba_stats_3.groupby('PLAYER_NAME').apply(np.mean, axis=0)"
      ]
    },
    {
      "cell_type": "markdown",
      "id": "0e6ed021",
      "metadata": {
        "id": "0e6ed021"
      },
      "source": [
        "### Any questions up to this point?"
      ]
    },
    {
      "cell_type": "markdown",
      "id": "b9f67c77",
      "metadata": {
        "id": "b9f67c77"
      },
      "source": [
        "### Now let's use some functions to do a more complex analysis, by player and season. What we are about to go over would be typical for a multi-point exercise on an exam.\n",
        "\n",
        "#### We will use the nba_stats_3 dataframe for this. Recall that this dataframe has PLAYER_NAME and SEASON_ID set as the indices."
      ]
    },
    {
      "cell_type": "markdown",
      "id": "4e205b23",
      "metadata": {
        "id": "4e205b23"
      },
      "source": [
        "**Requirement**:  \n",
        "\n",
        "Return a dataframe, top_rebs, containing the player name and season for the top 5 number of rebounds across the 4 seasons. Include the top 5 plus ties. In other works, if there are ties, keep all of the results, even if it results in more than 5 rows being returned. The dataframe should be sorted from most to least, with ties broken by name in reverse alphabetical order. Rebounds are in the column REB.\n",
        "\n",
        "Use the nba_stats_3 dataframe as the input for this.\n",
        "\n",
        "The output dataframe should have the following columns:  `player`, `season`, `total_rebounds`."
      ]
    },
    {
      "cell_type": "markdown",
      "id": "e21d9168",
      "metadata": {
        "id": "e21d9168"
      },
      "source": [
        "To meet this requirement, we will want to use the pandas function:  nlargest.\n",
        "\n",
        "We have explicitly stated what function to use here, but on an exam, you might see something like \"the pandas function nlargest might be useful for this exercise\".\n",
        "\n",
        "The requirement on ties is satisfied by the parameter \"keep\", and the value of \"all\".\n",
        "\n",
        "https://pandas.pydata.org/pandas-docs/stable/reference/api/pandas.DataFrame.nlargest.html"
      ]
    },
    {
      "cell_type": "code",
      "execution_count": null,
      "id": "bee57214",
      "metadata": {
        "id": "bee57214"
      },
      "outputs": [],
      "source": [
        "# top_rebs\n",
        "### YOUR CODE HERE"
      ]
    },
    {
      "cell_type": "markdown",
      "id": "929a678c",
      "metadata": {
        "id": "929a678c"
      },
      "source": [
        "Your solution should match the dataframe below."
      ]
    },
    {
      "cell_type": "code",
      "execution_count": null,
      "id": "2d5f5cb0",
      "metadata": {
        "id": "2d5f5cb0"
      },
      "outputs": [],
      "source": [
        "top_rebs_soln = pd.read_csv('top_rebs.csv')\n",
        "top_rebs_soln"
      ]
    },
    {
      "cell_type": "markdown",
      "id": "33d5cde3",
      "metadata": {
        "id": "33d5cde3"
      },
      "source": [
        "### What are your questions on this exercise?"
      ]
    },
    {
      "cell_type": "markdown",
      "id": "d8807fde",
      "metadata": {
        "id": "d8807fde"
      },
      "source": [
        "**Requirement**:  \n",
        "\n",
        "Return a dataframe, top_mins, containing the player name for the top 10 average number of minutes for the 4 seasons together. This means that we want to add up the total number of minutes the player has played and divide by the number of seasons, to get the average. Round the average to 1 decimal place, after sorting. The final dataframe indexes should be from 0 to 9 (or higher, if there are ties).\n",
        "\n",
        "Include the top 10 plus ties. The final dataframe indexes should be from 0 to 9 (or higher, if there are ties). The dataframe should be sorted from most to least, with ties broken by name in reverse alphabetical order. Minutes are in the column MIN.\n",
        "\n",
        "Use the nba_stats_3 dataframe as the input for this.\n",
        "\n",
        "The output dataframe should have the following columns:  `player`, `seasons_played`, `avg_minutes`."
      ]
    },
    {
      "cell_type": "code",
      "execution_count": null,
      "id": "49641541",
      "metadata": {
        "id": "49641541"
      },
      "outputs": [],
      "source": [
        "# top_mins\n",
        "### YOUR CODE HERE"
      ]
    },
    {
      "cell_type": "markdown",
      "id": "e2a47892",
      "metadata": {
        "id": "e2a47892"
      },
      "source": [
        "Your solution should match the dataframe below."
      ]
    },
    {
      "cell_type": "code",
      "execution_count": null,
      "id": "6b07fb19",
      "metadata": {
        "id": "6b07fb19"
      },
      "outputs": [],
      "source": [
        "top_mins_soln = pd.read_csv('top_mins.csv')\n",
        "top_mins_soln"
      ]
    },
    {
      "cell_type": "markdown",
      "id": "70adb806",
      "metadata": {
        "id": "70adb806"
      },
      "source": [
        "### What are your questions on this exercise?"
      ]
    },
    {
      "cell_type": "markdown",
      "id": "cc7d190b",
      "metadata": {
        "id": "cc7d190b"
      },
      "source": [
        "### Now let's look at Boolean Masks.\n",
        "\n",
        "#### What is a boolean mask? While boolean masks are typically used with numpy arrays, they can also be applied to pandas dataframes. We will introduce the concept here and later cover how they are used with numpy arrays, which is different from how they are used with pandas.\n",
        "\n",
        "**A mask is used filter and return only the rows that meet a certain condition.**\n",
        "\n",
        "With pandas, we can use comparison operator (<, >, >=, <=, ==), the isin() function, or the contains() function for strings.\n",
        "\n",
        "Vanderplas has an EXCELLENT introduction to masks in his book, focused on numpy. Chapter linked to here:  https://jakevdp.github.io/PythonDataScienceHandbook/02.06-boolean-arrays-and-masks.html"
      ]
    },
    {
      "cell_type": "code",
      "execution_count": null,
      "id": "2e310134",
      "metadata": {
        "id": "2e310134"
      },
      "outputs": [],
      "source": [
        "# mask to filter by comparison\n",
        "high_minutes = nba_stats_2[nba_stats_2['MIN'] >= 2000]\n",
        "high_minutes"
      ]
    },
    {
      "cell_type": "markdown",
      "id": "046864e7",
      "metadata": {
        "id": "046864e7"
      },
      "source": [
        "Note that the index returned is that of the index in the original dataframes. To reset the index to only those rows in the masked dataframe, use reset_index()."
      ]
    },
    {
      "cell_type": "code",
      "execution_count": null,
      "id": "41b0ae9c",
      "metadata": {
        "id": "41b0ae9c"
      },
      "outputs": [],
      "source": [
        "# mask to filter by comparison\n",
        "high_minutes_idx = nba_stats_2[nba_stats_2['MIN'] >= 2000].reset_index()\n",
        "high_minutes_idx"
      ]
    },
    {
      "cell_type": "code",
      "execution_count": null,
      "id": "de0eae64",
      "metadata": {
        "id": "de0eae64"
      },
      "outputs": [],
      "source": [
        "# mask using isin()\n",
        "season_2017 = nba_stats_2[nba_stats_2['SEASON_ID'].isin([22017,22018])].reset_index()\n",
        "season_2017"
      ]
    },
    {
      "cell_type": "markdown",
      "id": "2fbeb3bb",
      "metadata": {
        "id": "2fbeb3bb"
      },
      "source": [
        "Now let's do a multiple comparison."
      ]
    },
    {
      "cell_type": "code",
      "execution_count": null,
      "id": "7a041a86",
      "metadata": {
        "id": "7a041a86"
      },
      "outputs": [],
      "source": [
        "# mask to filter by multiple comparison\n",
        "# return the players with 2000 or more minutes in the 2017 and 2018 seasons\n",
        "high_minutes_idx = nba_stats_2[(nba_stats_2['MIN'] >= 2000) & (nba_stats_2['SEASON_ID'].isin([22017,22018]))].reset_index()\n",
        "high_minutes_idx"
      ]
    },
    {
      "cell_type": "code",
      "execution_count": null,
      "id": "f50f6ef4",
      "metadata": {
        "id": "f50f6ef4"
      },
      "outputs": [],
      "source": [
        "# mask to filter by string comparison\n",
        "# return all of the players named Anthony\n",
        "name_anthony = nba_stats_2[nba_stats_2['PLAYER_NAME'].str.contains('Anthony')].reset_index()\n",
        "name_anthony"
      ]
    },
    {
      "cell_type": "markdown",
      "id": "b9679118",
      "metadata": {
        "id": "b9679118"
      },
      "source": [
        "**Requirement**:\n",
        "\n",
        "In the NBA, for a player to lead in any statistical category, he must have played in a minimum number of games. For a full season, that number is 58 games. If you are interested in a full explanation of the requirements, see the link below.\n",
        "\n",
        "So let's return the scoring leaders, in points per game, for the 2018 season.\n",
        "\n",
        "Return a dataframe, top_scorers, containing the player name for the top 5 average points per game for the 2018 season, for players who meet the minimum number of games qualification.\n",
        "\n",
        "Round the average to 1 decimal place, after sorting. The final dataframe indexes should be from 0 to 4 (or higher, if there are ties).\n",
        "\n",
        "Include the top 5 plus ties. The final dataframe indexes should be from 0 to 4 (or higher, if there are ties). The dataframe should be sorted from most to least, with ties broken by name in reverse alphabetical order.\n",
        "\n",
        "Points are in the column PTS and games played are in the column GP.\n",
        "\n",
        "Use the nba_stats_2 dataframe as the input for this.\n",
        "\n",
        "The output dataframe should have the following columns:  `player`, `games`, `points`, `PPG`.\n",
        "\n",
        "https://www.nba.com/stats/help/statminimums"
      ]
    },
    {
      "cell_type": "code",
      "execution_count": null,
      "id": "a674c203",
      "metadata": {
        "id": "a674c203"
      },
      "outputs": [],
      "source": [
        "# top_scorers\n",
        "### YOUR CODE HERE"
      ]
    },
    {
      "cell_type": "markdown",
      "id": "90e1819f",
      "metadata": {
        "id": "90e1819f"
      },
      "source": [
        "Your dataframe results should match those at this link:  https://www.espn.com/nba/stats/_/season/2019/seasontype/2"
      ]
    },
    {
      "cell_type": "markdown",
      "id": "5e94a0a5",
      "metadata": {
        "id": "5e94a0a5"
      },
      "source": [
        "### What are your questions on this exercise?"
      ]
    },
    {
      "cell_type": "markdown",
      "id": "23bdd689",
      "metadata": {
        "id": "23bdd689"
      },
      "source": [
        "### Extra Credit, for fun (will not be covered during Skills OH live session)"
      ]
    },
    {
      "cell_type": "markdown",
      "id": "010ede96",
      "metadata": {
        "id": "010ede96"
      },
      "source": [
        "**Requirement**:\n",
        "\n",
        "In the NBA, the metric `PLUS_MINUS` provides a single number for the value of a player. The metric is defined as the difference between the number of points the player's team scores, minus the number of points the opposing team scores, during the time that the player is in the game.\n",
        "\n",
        "A positive number means that, over the course of the season, the player's team scored that many more points than their opponents when he was on the court. Likewise for a negative number, his team scored that many fewer points.\n",
        "\n",
        "In general, the best players have the highest `PLUS_MINUS`, and the worst player have the lowest `PLUS_MINUS`.\n",
        "\n",
        "So let's see who the best and worst players were, during the 2020 season.\n",
        "\n",
        "Return a dataframe, best_players, containing the top 10 players and their `PLUS_MINUS` value. Include the top 10 plus ties. The final dataframe indexes should be from 0 to 9 (or higher, if there are ties). The dataframe should be sorted from most to least, with ties broken by name in reverse alphabetical order.  \n",
        "\n",
        "Additionally, return a dataframe, worst_players, containing the bottom 10 players and their `PLUS_MINUS` value. Include the bottom 10 plus ties. The final dataframe indexes should be from 0 to 9 (or higher, if there are ties). The dataframe should be sorted from lowest value to highest value, with ties broken by name in reverse alphabetical order.\n",
        "\n",
        "The output dataframes should have the following columns:  `PLAYER_NAME`, `PLUS_MINUS`. There is no need to rename the columns from their original names in the source dataframe for this exercise.\n",
        "\n",
        "Use the nba_stats_2 dataframe as the input for this.\n",
        "\n",
        "The `nsmallest()` function is analogous to `nlargest` for finding the smallest values.\n",
        "\n",
        "https://pandas.pydata.org/pandas-docs/stable/reference/api/pandas.DataFrame.nsmallest.html\n",
        "\n",
        "\n",
        "\n"
      ]
    },
    {
      "cell_type": "code",
      "execution_count": null,
      "id": "cd8ccb16",
      "metadata": {
        "id": "cd8ccb16"
      },
      "outputs": [],
      "source": [
        "# best players here\n",
        "### YOUR CODE HERE"
      ]
    },
    {
      "cell_type": "markdown",
      "id": "ea8db381",
      "metadata": {
        "id": "ea8db381"
      },
      "source": [
        "Your solution should match the dataframe below."
      ]
    },
    {
      "cell_type": "code",
      "execution_count": null,
      "id": "985c6269",
      "metadata": {
        "id": "985c6269"
      },
      "outputs": [],
      "source": [
        "best_players_soln = pd.read_csv('best_players.csv')\n",
        "best_players_soln"
      ]
    },
    {
      "cell_type": "code",
      "execution_count": null,
      "id": "dbef19c0",
      "metadata": {
        "id": "dbef19c0"
      },
      "outputs": [],
      "source": [
        "# worst players here\n",
        "### YOUR CODE HERE"
      ]
    },
    {
      "cell_type": "markdown",
      "id": "8dcdf99b",
      "metadata": {
        "id": "8dcdf99b"
      },
      "source": [
        "Your solution should match the dataframe below."
      ]
    },
    {
      "cell_type": "code",
      "execution_count": null,
      "id": "f5977ab2",
      "metadata": {
        "id": "f5977ab2"
      },
      "outputs": [],
      "source": [
        "worst_players_soln = pd.read_csv('worst_players.csv')\n",
        "worst_players_soln"
      ]
    },
    {
      "cell_type": "code",
      "execution_count": null,
      "id": "8f576fe9",
      "metadata": {
        "id": "8f576fe9"
      },
      "outputs": [],
      "source": []
    }
  ],
  "metadata": {
    "kernelspec": {
      "display_name": "Python 3 (ipykernel)",
      "language": "python",
      "name": "python3"
    },
    "language_info": {
      "codemirror_mode": {
        "name": "ipython",
        "version": 3
      },
      "file_extension": ".py",
      "mimetype": "text/x-python",
      "name": "python",
      "nbconvert_exporter": "python",
      "pygments_lexer": "ipython3",
      "version": "3.9.13"
    },
    "colab": {
      "provenance": [],
      "include_colab_link": true
    }
  },
  "nbformat": 4,
  "nbformat_minor": 5
}