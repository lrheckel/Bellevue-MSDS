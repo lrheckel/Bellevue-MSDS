{
 "cells": [
  {
   "cell_type": "code",
   "execution_count": 182,
   "metadata": {},
   "outputs": [],
   "source": [
    "#-------------------------------------------------\n",
    "#File:  Web Services Program\n",
    "#Name:  Larry Heckel\n",
    "#Date:  February 15, 2019\n",
    "#Course: DSC510-T302 Introduction to Programming\n",
    "#Desc:  Program allows the user to request a \n",
    "#       Chuck Norris joke as many times as they\n",
    "#       like. Returns a joke from the Chuck Norris\n",
    "#       joke site.\n",
    "#Usage: Program asks the user if they would like\n",
    "#       to see a joke. A positive answer returns a\n",
    "#       joke, a stop answer exits the program, and\n",
    "#       anything different asks the user again if\n",
    "#       they would like to see a joke.\n",
    "#       \n",
    "#\n",
    "#-------------------------------------------------"
   ]
  },
  {
   "cell_type": "code",
   "execution_count": 183,
   "metadata": {},
   "outputs": [],
   "source": [
    "# Calculation function\n",
    "def Get_Norris_Joke():\n",
    "    \n",
    "    import json\n",
    "    import requests\n",
    "\n",
    "    chuck_URL = 'https://api.chucknorris.io/jokes/random'\n",
    "\n",
    "    try:\n",
    "        joke_data = requests.get(chuck_URL)\n",
    "        \n",
    "        joke_json = json.loads(joke_data.text)\n",
    "        \n",
    "        #print(joke_json['url'])\n",
    "        print()\n",
    "        print('\\n***************')\n",
    "        print('Here is your Chuck Norris joke. Enjoy!')\n",
    "        print(joke_json['value'])\n",
    "        print('***************')\n",
    "        print()\n",
    "    except:\n",
    "        print('There was an error in connecting to the joke site.\\n'\n",
    "             'No joke was returned.')"
   ]
  },
  {
   "cell_type": "code",
   "execution_count": 184,
   "metadata": {},
   "outputs": [],
   "source": [
    "# this is the main program function\n",
    "def main():\n",
    "    \n",
    "    counter = 0\n",
    "    \n",
    "    print('This program will ask you if you would like to see a Chuck Norris joke.')\n",
    "    print('Each time you answer positively, it will bring back a joke.')\n",
    "    print(\"When you no longer wish to see any more jokes, you can type 'no' to end the full program.\")\n",
    "    print('***************\\n')\n",
    "    while True:\n",
    "        if counter == 0:\n",
    "            perform_op = input(\"Would you like to see a Chuck Norris joke? \\n\"\n",
    "                          \"Type 'y' or 'Y' to see a joke, or type 'n' or 'N' to exit. \")\n",
    "        else:\n",
    "            perform_op = input(\"Would you like to see another Chuck Norris joke? \\n\"\n",
    "                          \"Type 'y' or 'Y' to see a joke, or type 'n' or 'N' to exit. \")\n",
    "\n",
    "        if str(perform_op.lower()) == 'n': \n",
    "            break\n",
    "        elif str(perform_op.lower()) == 'y': \n",
    "            #print('yes')\n",
    "            Get_Norris_Joke()\n",
    "            counter += 1\n",
    "        else:\n",
    "            print(\"\\nWe did not detect a 'Y' or 'N' answer. \\n\"\n",
    "                     \"Can you please answer again?\")\n",
    "        \n",
    "    print('\\n***************')\n",
    "    print('The program is complete. Thank you and have a good day.')"
   ]
  },
  {
   "cell_type": "code",
   "execution_count": 185,
   "metadata": {},
   "outputs": [
    {
     "name": "stdout",
     "output_type": "stream",
     "text": [
      "This program will ask you if you would like to see a Chuck Norris joke.\n",
      "Each time you answer positively, it will bring back a joke.\n",
      "When you no longer wish to see any more jokes, you can type 'no' to end the full program.\n",
      "***************\n",
      "\n",
      "Would you like to see a Chuck Norris joke? \n",
      "Type 'y' or 'Y' to see a joke, or type 'n' or 'N' to exit. Y\n",
      "\n",
      "\n",
      "***************\n",
      "Here is your Chuck Norris joke. Enjoy!\n",
      "Chuck Norris doesn't do pushups. He does Earth-downs.\n",
      "***************\n",
      "\n",
      "Would you like to see another Chuck Norris joke? \n",
      "Type 'y' or 'Y' to see a joke, or type 'n' or 'N' to exit. y\n",
      "\n",
      "\n",
      "***************\n",
      "Here is your Chuck Norris joke. Enjoy!\n",
      "Chuck Norris convinced a dinosaur the earth is 6000 years old.\n",
      "***************\n",
      "\n",
      "Would you like to see another Chuck Norris joke? \n",
      "Type 'y' or 'Y' to see a joke, or type 'n' or 'N' to exit. mmm\n",
      "\n",
      "We did not detect a 'Y' or 'N' answer. \n",
      "Can you please answer again?\n",
      "Would you like to see another Chuck Norris joke? \n",
      "Type 'y' or 'Y' to see a joke, or type 'n' or 'N' to exit. N\n",
      "\n",
      "***************\n",
      "The program is complete. Thank you and have a good day.\n"
     ]
    }
   ],
   "source": [
    "# this runs the program\n",
    "if __name__ == \"__main__\":\n",
    "    main()"
   ]
  }
 ],
 "metadata": {
  "kernelspec": {
   "display_name": "Python 3",
   "language": "python",
   "name": "python3"
  },
  "language_info": {
   "codemirror_mode": {
    "name": "ipython",
    "version": 3
   },
   "file_extension": ".py",
   "mimetype": "text/x-python",
   "name": "python",
   "nbconvert_exporter": "python",
   "pygments_lexer": "ipython3",
   "version": "3.7.1"
  }
 },
 "nbformat": 4,
 "nbformat_minor": 2
}
