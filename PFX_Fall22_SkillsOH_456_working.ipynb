{
  "cells": [
    {
      "cell_type": "markdown",
      "metadata": {
        "id": "view-in-github",
        "colab_type": "text"
      },
      "source": [
        "<a href=\"https://colab.research.google.com/github/lrheckel/Bellevue-MSDS/blob/master/PFX_Fall22_SkillsOH_456_working.ipynb\" target=\"_parent\"><img src=\"https://colab.research.google.com/assets/colab-badge.svg\" alt=\"Open In Colab\"/></a>"
      ]
    },
    {
      "cell_type": "markdown",
      "id": "997b54bd",
      "metadata": {
        "nbgrader": {
          "grade": false,
          "locked": true,
          "solution": false
        },
        "tags": [
          "notebook_header"
        ],
        "id": "997b54bd"
      },
      "source": [
        "# `Final Exam`, `Fall 2022`: `Time Series Analysis of US Inflation`\n",
        "_Version 1.0.1_\n",
        "\n",
        "Change history:   \n",
        "1.0.1 - bugfix ex2 test code.  \n",
        "1.0 - initial release  \n",
        "\n",
        "*All of the header information is important. Please read it..*\n",
        "\n",
        "**Topics, number of exercises:** This problem builds on your knowledge of Pandas, Numpy, basic Python data structures, and implementing mathematical functions. It has **9** exercises, numbered 0 to **8**. There are **18** available points. However, to earn 100% the threshold is **13** points. (Therefore, once you hit **13** points, you can stop. There is no extra credit for exceeding this threshold.)\n",
        "\n",
        "**Exercise ordering:** Each exercise builds logically on previous exercises, but you may solve them in any order. That is, if you can't solve an exercise, you can still move on and try the next one. Use this to your advantage, as the exercises are **not** necessarily ordered in terms of difficulty. Higher point values generally indicate more difficult exercises.\n",
        "\n",
        "**Demo cells:** Code cells starting with the comment `### define demo inputs` load results from prior exercises applied to the entire data set and use those to build demo inputs. These must be run for subsequent demos to work properly, but they do not affect the test cells. The data loaded in these cells may be rather large (at least in terms of human readability). You are free to print or otherwise use Python to explore them, but we did not print them in the starter code.\n",
        "\n",
        "**Debugging your code:** Right before each exercise test cell, there is a block of text explaining the variables available to you for debugging. You may use these to test your code and can print/display them as needed (careful when printing large objects, you may want to print the head or chunks of rows at a time).\n",
        "\n",
        "**Exercise point breakdown:**\n",
        "\n",
        "- Exercise 0: **1** point(s)\n",
        "- Exercise 1: **1** point(s)\n",
        "- Exercise 2: **2** point(s)\n",
        "- Exercise 3: **2** point(s)\n",
        "- Exercise 4: **2** point(s)\n",
        "- Exercise 5: **2** point(s)\n",
        "- Exercise 6: **2** point(s)\n",
        "- Exercise 7: **3** point(s)\n",
        "- Exercise 8: **3** point(s)\n",
        "\n",
        "**Final reminders:**\n",
        "\n",
        "- Submit after **every exercise**\n",
        "- Review the generated grade report after you submit to see what errors were returned\n",
        "- Stay calm, skip problems as needed, and take short breaks at your leisure\n"
      ]
    },
    {
      "cell_type": "markdown",
      "id": "b0f0ecc3",
      "metadata": {
        "nbgrader": {
          "grade": false,
          "locked": true,
          "solution": false
        },
        "tags": [
          "topic_intro"
        ],
        "id": "b0f0ecc3"
      },
      "source": [
        "## Background Inflation\n",
        "\n",
        "Inflation is an increase in overall prices in an economy over time. Deflation is \"negative inflation\", a decrease in prices over time. A common way to measure inflation is to first calculate the CPI (price of a representative basket of goods), then compute the difference in CPI over a time interval. In other words if the CPI is 100 at one point in time, and the CPI is 105 one year later then we would say that the inflation rate over that year was 5%.\n",
        "\n",
        "## Data\n",
        "\n",
        "We have obtained the US CPI for each month going back to the early 20th century from The Organisation for Economic Co-operation and Development.\n",
        "\n",
        "## Analysis goals\n",
        "- Use the CPI data to calculate the inflation rate at any point in history over an arbitrary number of months.\n",
        "- Attempt to predict the inflation rate in future months based on the inflation rate in previous months using exponential smoothing models.\n",
        "    - Evaluate how \"good\" the predictions are.\n",
        "    - Tune the models to pick the best parameters.\n",
        "    - Make inferences based on the selected parameters."
      ]
    },
    {
      "cell_type": "code",
      "source": [
        "# uncomment in Google Colab\n",
        "# !python --version\n",
        "!pip install dill\n",
        "import dill as pickle\n",
        "!pip install cryptography"
      ],
      "metadata": {
        "id": "kABn3tp27Z-L"
      },
      "id": "kABn3tp27Z-L",
      "execution_count": null,
      "outputs": []
    },
    {
      "cell_type": "code",
      "execution_count": null,
      "id": "dbf8340c",
      "metadata": {
        "nbgrader": {
          "grade": false,
          "locked": true,
          "solution": false
        },
        "tags": [
          "global_imports"
        ],
        "id": "dbf8340c"
      },
      "outputs": [],
      "source": [
        "### Global Imports\n",
        "import pandas as pd\n",
        "import numpy as np\n",
        "import pickle\n",
        "\n",
        "# Some functionality needed by the notebook and demo cells:\n",
        "from pprint import pprint, pformat\n",
        "import math\n",
        "\n",
        "# === Messages === #\n",
        "\n",
        "def status_msg(s, verbose=True, **kwargs):\n",
        "    if verbose:\n",
        "        print(s, **kwargs)\n",
        "\n",
        "# === Input/output === #\n",
        "\n",
        "# def load_df_from_file(basename, dirname='resource/asnlib/publicdata/', abort_on_error=False, verbose=False):\n",
        "def load_df_from_file(basename, dirname='', abort_on_error=False, verbose=False):\n",
        "    from os.path import isfile\n",
        "    from dill import loads\n",
        "    from pandas import DataFrame\n",
        "    df = DataFrame()\n",
        "    filename = f\"{dirname}{basename}\"\n",
        "    status_msg(f\"Loading `DataFrame` from '{filename}'...\", verbose=verbose)\n",
        "    if isfile(filename):\n",
        "        try:\n",
        "            with open(filename, \"rb\") as fp:\n",
        "                df = loads(fp.read())\n",
        "            status_msg(f\"  ==> Done!\", verbose=verbose)\n",
        "        except:\n",
        "            if abort_on_error:\n",
        "                raise\n",
        "            else:\n",
        "                df = DataFrame()\n",
        "                status_msg(f\"  ==> An error occurred.\", verbose=verbose)\n",
        "    return df\n",
        "\n",
        "# def load_obj_from_file(basename, dirname='resource/asnlib/publicdata/', abort_on_error=False, verbose=False):\n",
        "def load_obj_from_file(basename, dirname='', abort_on_error=False, verbose=False):\n",
        "    from os.path import isfile\n",
        "    from dill import loads\n",
        "    from pandas import DataFrame\n",
        "    filename = f\"{dirname}{basename}\"\n",
        "    status_msg(f\"Loading object from '{filename}'...\", verbose=verbose)\n",
        "    if isfile(filename):\n",
        "        try:\n",
        "            with open(filename, \"rb\") as fp:\n",
        "                df = loads(fp.read())\n",
        "            status_msg(f\"  ==> Done! Type: `{type(df)}`\", verbose=verbose)\n",
        "        except:\n",
        "            if abort_on_error:\n",
        "                raise\n",
        "            else:\n",
        "                df = DataFrame()\n",
        "                status_msg(f\"  ==> An error occurred.\", verbose=verbose)\n",
        "    else:\n",
        "        df = None\n",
        "    return df"
      ]
    },
    {
      "cell_type": "code",
      "source": [
        "# import files\n",
        "!wget https://raw.githubusercontent.com/gt-cse-6040/topic_12_FEX_FA22_456/main/tc_4\n",
        "!wget https://raw.githubusercontent.com/gt-cse-6040/topic_12_FEX_FA22_456/main/tc_5\n",
        "!wget https://raw.githubusercontent.com/gt-cse-6040/topic_12_FEX_FA22_456/main/tc_6\n",
        "!wget https://raw.githubusercontent.com/gt-cse-6040/topic_12_FEX_FA22_456/main/cpi_urban_all.csv\n",
        "\n",
        "!mkdir tester_fw\n",
        "%cd tester_fw\n",
        "\n",
        "!wget https://raw.githubusercontent.com/gt-cse-6040/topic_12_FEX_FA22_456/main/tester_fw/__init__.py\n",
        "!wget https://raw.githubusercontent.com/gt-cse-6040/topic_12_FEX_FA22_456/main/tester_fw/test_utils.py\n",
        "!wget https://raw.githubusercontent.com/gt-cse-6040/topic_12_FEX_FA22_456/main/tester_fw/testers.py\n",
        "\n",
        "%cd .."
      ],
      "metadata": {
        "id": "gBZFYH3h7jeu"
      },
      "id": "gBZFYH3h7jeu",
      "execution_count": null,
      "outputs": []
    },
    {
      "cell_type": "markdown",
      "id": "6d4a9824",
      "metadata": {
        "nbgrader": {
          "grade": false,
          "locked": true,
          "solution": false
        },
        "tags": [
          "exercise_text"
        ],
        "id": "6d4a9824"
      },
      "source": [
        "## Exercise 0 - (**1** Points):\n",
        "To start things off we will load the CPI data into the notebook environment. You do not need to modify the cell below, just execute the test and collect your free point!\n",
        "\n",
        "This cell will also display the first few rows and last few rows of the CPI data we just loaded."
      ]
    },
    {
      "cell_type": "code",
      "execution_count": null,
      "id": "f77aa46c",
      "metadata": {
        "nbgrader": {
          "grade": false,
          "locked": true,
          "solution": false
        },
        "tags": [
          "exercise_solution"
        ],
        "id": "f77aa46c"
      },
      "outputs": [],
      "source": [
        "cpi_all_df = pd.read_csv('cpi_urban_all.csv')\n",
        "display(cpi_all_df.head())\n",
        "display(cpi_all_df.tail())"
      ]
    },
    {
      "cell_type": "markdown",
      "id": "a61de83f",
      "metadata": {
        "nbgrader": {
          "grade": false,
          "locked": true,
          "solution": false
        },
        "tags": [
          "test_data_boilerplate"
        ],
        "id": "a61de83f"
      },
      "source": [
        "<!-- Test Cell Boilerplate -->\n",
        "The cell below will test your solution for Exercise 0. The testing variables will be available for debugging under the following names in a dictionary format.\n",
        "- `input_vars` - Input variables for your solution.\n",
        "- `original_input_vars` - Copy of input variables from prior to running your solution. These _should_ be the same as `input_vars` - otherwise the inputs were modified by your solution.\n",
        "- `returned_output_vars` - Outputs returned by your solution.\n",
        "- `true_output_vars` - The expected output. This _should_ \"match\" `returned_output_vars` based on the question requirements - otherwise, your solution is not returning the correct output."
      ]
    },
    {
      "cell_type": "code",
      "execution_count": null,
      "id": "65fa5310",
      "metadata": {
        "nbgrader": {
          "grade": true,
          "grade_id": "ex0",
          "locked": true,
          "points": "1",
          "solution": false
        },
        "tags": [],
        "id": "65fa5310"
      },
      "outputs": [],
      "source": [
        "### test_cell_ex0\n",
        "assert 'cpi_all_df' in globals()\n",
        "assert isinstance(cpi_all_df, pd.DataFrame)\n",
        "print('Passed! Please submit.')"
      ]
    },
    {
      "cell_type": "markdown",
      "id": "4dc70fbb",
      "metadata": {
        "nbgrader": {
          "grade": false,
          "locked": true,
          "solution": false
        },
        "tags": [
          "exercise_text"
        ],
        "id": "4dc70fbb"
      },
      "source": [
        "## Exercise 4 - (**2** Points):\n",
        "We have the CPI data re-organized into a time series. We are concerned with inflation, which is the multiplicative change in CPI over some time interval. We will need to transform the data a final time to get an inflation time series.\n",
        "\n",
        "Define the function `multiplicative_change(ts, lag)`. The input `ts` is a 1-D array of floats representing monthly observations of the CPI. The input `lag` is an integer indicating the time interval we want to measure inflation over in months.\n",
        "\n",
        "Your function should implement the following formula to calculate $\\hat{x}$ and return the result as a 1-D array. In the mathematical notation $x$ is `ts`, and $\\ell$ is `lag`:\n",
        "$$\\hat{x_i} = \\frac{x_i - x_{i-\\ell}}{x_{i-\\ell}}$$\n",
        "\n",
        "Note that by this definition the first $\\ell$ (or `lag`) entries in $\\hat{x}$ are undefined. The output will start with the first defined value."
      ]
    },
    {
      "cell_type": "code",
      "execution_count": null,
      "id": "e2d8f8d1",
      "metadata": {
        "nbgrader": {
          "grade": false,
          "locked": true,
          "solution": false
        },
        "tags": [
          "demo_data"
        ],
        "id": "e2d8f8d1"
      },
      "outputs": [],
      "source": [
        "### Define demo inputs\n",
        "demo_ts_ex4 = np.array([100., 150., 180., 216., 324.])"
      ]
    },
    {
      "cell_type": "markdown",
      "id": "c436da70",
      "metadata": {
        "nbgrader": {
          "grade": false,
          "locked": true,
          "solution": false
        },
        "tags": [
          "demo_output_md"
        ],
        "id": "c436da70"
      },
      "source": [
        "<!-- Expected demo output text block -->\n",
        "The demo included in the solution cell below should display the following output:\n",
        "```\n",
        "lag of 1\n",
        "[0.5 0.2 0.2 0.5]\n",
        "\n",
        "lag of 2\n",
        "[0.8  0.44 0.8 ]\n",
        "```\n",
        "<!-- Include any shout outs here -->"
      ]
    },
    {
      "cell_type": "code",
      "execution_count": null,
      "id": "17c31b88",
      "metadata": {
        "tags": [
          "exercise_solution"
        ],
        "id": "17c31b88"
      },
      "outputs": [],
      "source": [
        "### Exercise 4 solution\n",
        "def multiplicative_change(ts, lag):\n",
        "    ### YOUR CODE HERE\n",
        "\n",
        "### demo function call\n",
        "demo_output_ex4_lag_1 = multiplicative_change(demo_ts_ex4, 1)\n",
        "demo_output_ex4_lag_2 = multiplicative_change(demo_ts_ex4, 2)\n",
        "print('lag of 1')\n",
        "print(demo_output_ex4_lag_1)\n",
        "print()\n",
        "print('lag of 2')\n",
        "print(demo_output_ex4_lag_2)"
      ]
    },
    {
      "cell_type": "markdown",
      "id": "c4203645",
      "metadata": {
        "nbgrader": {
          "grade": false,
          "locked": true,
          "solution": false
        },
        "tags": [
          "test_data_boilerplate"
        ],
        "id": "c4203645"
      },
      "source": [
        "<!-- Test Cell Boilerplate -->\n",
        "The cell below will test your solution for Exercise 4. The testing variables will be available for debugging under the following names in a dictionary format.\n",
        "- `input_vars` - Input variables for your solution.\n",
        "- `original_input_vars` - Copy of input variables from prior to running your solution. These _should_ be the same as `input_vars` - otherwise the inputs were modified by your solution.\n",
        "- `returned_output_vars` - Outputs returned by your solution.\n",
        "- `true_output_vars` - The expected output. This _should_ \"match\" `returned_output_vars` based on the question requirements - otherwise, your solution is not returning the correct output."
      ]
    },
    {
      "cell_type": "code",
      "execution_count": null,
      "id": "45a93d13",
      "metadata": {
        "nbgrader": {
          "grade": true,
          "grade_id": "ex4",
          "locked": true,
          "points": "2",
          "solution": false
        },
        "tags": [],
        "id": "45a93d13"
      },
      "outputs": [],
      "source": [
        "### test_cell_ex4\n",
        "from tester_fw.testers import Tester\n",
        "\n",
        "conf = {\n",
        "    'case_file':'tc_4',\n",
        "    'func': multiplicative_change, # replace this with the function defined above\n",
        "    'inputs':{ # input config dict. keys are parameter names\n",
        "        'ts':{\n",
        "            'dtype':'np.ndarray', # data type of param.\n",
        "            'check_modified':True,\n",
        "        },\n",
        "        'lag':{\n",
        "            'dtype':'int', # data type of param.\n",
        "            'check_modified':True,\n",
        "        }\n",
        "    },\n",
        "    'outputs':{\n",
        "        'output_0':{\n",
        "            'index':0,\n",
        "            'dtype':'',\n",
        "            'check_dtype': True,\n",
        "            'check_col_dtypes': True, # Ignored if dtype is not df\n",
        "            'check_col_order': True, # Ignored if dtype is not df\n",
        "            'check_row_order': True, # Ignored if dtype is not df\n",
        "            'check_column_type': True, # Ignored if dtype is not df\n",
        "            'float_tolerance': 10 ** (-6)\n",
        "        }\n",
        "    }\n",
        "}\n",
        "tester = Tester(conf, key=b'z0BNF11iKYQicR63590bVXZGa19YGvJcmzrbP6R7oAY=', path='')\n",
        "for _ in range(70):\n",
        "    try:\n",
        "        tester.run_test()\n",
        "        (input_vars, original_input_vars, returned_output_vars, true_output_vars) = tester.get_test_vars()\n",
        "    except:\n",
        "        (input_vars, original_input_vars, returned_output_vars, true_output_vars) = tester.get_test_vars()\n",
        "        raise\n",
        "\n",
        "print('Passed! Please submit.')"
      ]
    },
    {
      "cell_type": "markdown",
      "id": "eed9a997",
      "metadata": {
        "nbgrader": {
          "grade": false,
          "locked": true,
          "solution": false
        },
        "id": "eed9a997"
      },
      "source": [
        "## On time-series analysis\n",
        "The following two exercises will focus on implementing two triple time-series analysis techniques, triple and double exponential smoothing. The high level idea for simple smoothing is that we will make an initial guess, compare it with the observation, and use that information to improve our guess on the following observation. For double smoothing, we will do this on two levels - adjusting successive guesses for the observations themselves as well as for the difference between observations in an attempt to capture any trends in our model."
      ]
    },
    {
      "cell_type": "markdown",
      "id": "5a1bfa68",
      "metadata": {
        "nbgrader": {
          "grade": false,
          "locked": true,
          "solution": false
        },
        "tags": [
          "exercise_text"
        ],
        "id": "5a1bfa68"
      },
      "source": [
        "## Exercise 5 - (**2** Points):\n",
        "This is the formula for our application of simple exponential smoothing. In the math notation $x_t$ is `ts[t]`, and $\\hat{x_t}$ is our prediction for $x_t$:   \n",
        "\n",
        "Initial conditions  \n",
        "- $s_0 = x_0$.                This is our initial guess.  \n",
        "- $\\hat{x_0}$ is undefined.   We can't call the first guess a prediction since it's actually the first observation.  \n",
        "\n",
        "For $t > 0$  \n",
        "- $s_t = \\alpha(x_{t}) + (1-\\alpha)s_{t-1}$  \n",
        "- $\\hat{x_t} = s_{t-1}$\n",
        "\n",
        "When $\\alpha$ is closer to 1 the model is more sensitive to recent observations. When $\\alpha$ is closer to 0 the model is more sensitive to past observations.\n",
        "\n",
        "Define the function `simple_exp_smoothing(ts, alpha)`. The input `ts` will be a 1-D numerical array (the vector $x$ from the formula above), and the input `alpha` (the scalar $\\alpha$ from the formula above) will be a floating point number between 0 and 1.\n",
        "\n",
        "Your function should implement the formula above and return the vector $\\hat{x}$ as a 1-D array.   \n",
        "- Since $\\hat{x_0}$ is undefined, the first element in your result should be `np.nan`.  \n",
        "- Since $\\hat{x}_{n+1}$ is well-defined for $x \\in \\mathcal{R}^n$, your result should have exactly one more element than the input `ts`."
      ]
    },
    {
      "cell_type": "code",
      "execution_count": null,
      "id": "e22f1dd4",
      "metadata": {
        "nbgrader": {
          "grade": false,
          "locked": true,
          "solution": false
        },
        "tags": [
          "demo_data"
        ],
        "id": "e22f1dd4"
      },
      "outputs": [],
      "source": [
        "### Define demo inputs\n",
        "\n",
        "demo_ts_ex5 = np.array([100., 105., 120., 110., 115.])"
      ]
    },
    {
      "cell_type": "markdown",
      "id": "e017a310",
      "metadata": {
        "nbgrader": {
          "grade": false,
          "locked": true,
          "solution": false
        },
        "tags": [
          "demo_output_md"
        ],
        "id": "e017a310"
      },
      "source": [
        "<!-- Expected demo output text block -->\n",
        "The demo included in the solution cell below should display the following output:\n",
        "```\n",
        "[ nan 100. 105. 120. 110. 115.]\n",
        "[ nan 100. 100. 100. 100. 100.]\n",
        "[ nan 100. 102.5 111.25 110.625 112.8125]\n",
        "```\n",
        "The demo below will run your solution 3 times with `alpha` values of `1`, `0`, and `0.5`."
      ]
    },
    {
      "cell_type": "code",
      "execution_count": null,
      "id": "b38e13dd",
      "metadata": {
        "tags": [
          "exercise_solution"
        ],
        "id": "b38e13dd"
      },
      "outputs": [],
      "source": [
        "### Exercise 5 solution\n",
        "def simple_exp_smoothing(ts, alpha):\n",
        "    ### YOUR CODE HERE\n",
        "\n",
        "### demo function call\n",
        "print(simple_exp_smoothing(demo_ts_ex5, 1))\n",
        "print(simple_exp_smoothing(demo_ts_ex5, 0))\n",
        "print(simple_exp_smoothing(demo_ts_ex5, 0.5))"
      ]
    },
    {
      "cell_type": "markdown",
      "id": "80539eb2",
      "metadata": {
        "nbgrader": {
          "grade": false,
          "locked": true,
          "solution": false
        },
        "tags": [
          "test_data_boilerplate"
        ],
        "id": "80539eb2"
      },
      "source": [
        "<!-- Test Cell Boilerplate -->\n",
        "The cell below will test your solution for Exercise 5. The testing variables will be available for debugging under the following names in a dictionary format.\n",
        "- `input_vars` - Input variables for your solution.\n",
        "- `original_input_vars` - Copy of input variables from prior to running your solution. These _should_ be the same as `input_vars` - otherwise the inputs were modified by your solution.\n",
        "- `returned_output_vars` - Outputs returned by your solution.\n",
        "- `true_output_vars` - The expected output. This _should_ \"match\" `returned_output_vars` based on the question requirements - otherwise, your solution is not returning the correct output."
      ]
    },
    {
      "cell_type": "code",
      "execution_count": null,
      "id": "e002eb46",
      "metadata": {
        "nbgrader": {
          "grade": true,
          "grade_id": "ex5",
          "locked": true,
          "points": "2",
          "solution": false
        },
        "tags": [],
        "id": "e002eb46"
      },
      "outputs": [],
      "source": [
        "### test_cell_ex5\n",
        "from tester_fw.testers import Tester\n",
        "\n",
        "conf = {\n",
        "    'case_file':'tc_5',\n",
        "    'func': simple_exp_smoothing, # replace this with the function defined above\n",
        "    'inputs':{ # input config dict. keys are parameter names\n",
        "        'ts':{\n",
        "            'dtype':'np.ndarray', # data type of param.\n",
        "            'check_modified':True,\n",
        "        },\n",
        "        'alpha':{\n",
        "            'dtype':'float', # data type of param.\n",
        "            'check_modified':True,\n",
        "        }\n",
        "    },\n",
        "    'outputs':{\n",
        "        'output_0':{\n",
        "            'index':0,\n",
        "            'dtype':'np.ndarray',\n",
        "            'check_dtype': True,\n",
        "            'check_col_dtypes': True, # Ignored if dtype is not df\n",
        "            'check_col_order': True, # Ignored if dtype is not df\n",
        "            'check_row_order': True, # Ignored if dtype is not df\n",
        "            'check_column_type': True, # Ignored if dtype is not df\n",
        "            'float_tolerance': 10 ** (-6)\n",
        "        }\n",
        "    }\n",
        "}\n",
        "tester = Tester(conf, key=b'z0BNF11iKYQicR63590bVXZGa19YGvJcmzrbP6R7oAY=', path='')\n",
        "for _ in range(70):\n",
        "    try:\n",
        "        tester.run_test()\n",
        "        (input_vars, original_input_vars, returned_output_vars, true_output_vars) = tester.get_test_vars()\n",
        "    except:\n",
        "        (input_vars, original_input_vars, returned_output_vars, true_output_vars) = tester.get_test_vars()\n",
        "        raise\n",
        "\n",
        "print('Passed! Please submit.')"
      ]
    },
    {
      "cell_type": "markdown",
      "id": "ba4c9865",
      "metadata": {
        "nbgrader": {
          "grade": false,
          "locked": true,
          "solution": false
        },
        "tags": [
          "exercise_text"
        ],
        "id": "ba4c9865"
      },
      "source": [
        "## Exercise 6 - (**2** Points):\n",
        "Now we will implement double exponential smoothing. For our implementation the formula is as follows:\n",
        "\n",
        "- $s_0 = x_0$  \n",
        "- $b_0 = 0$  \n",
        "- $\\hat{x}_0$ is undefined  \n",
        "\n",
        "For $t > 0$:  \n",
        "- $s_t = \\alpha x_{t} + (1-\\alpha)(s_{t-1} + b_{t-1})$  \n",
        "- $b_t = \\beta (s_t - s_{t-1}) + (1-\\beta)b_{t-1}$  \n",
        "- $\\hat{x}_{t} = s_{t-1} + b_{t-1}$  \n",
        "\n",
        "Define the function `double_exp_smoothing(ts, alpha, beta)`. The input `ts` will be a 1-D numerical array (the vector $x$ from the formula above), and the inputs `alpha` and `beta` (the scalars $\\alpha$ and $\\beta$ from the formula above) will be floating point numbers between 0 and 1.\n",
        "\n",
        "Your function should implement the formula above and return the vector $\\hat{x}$ as a 1-D array.   \n",
        "- Since $\\hat{x_0}$ is undefined, the first element in your result should be `np.nan`.  \n",
        "- Since $\\hat{x}_{n+1}$ is well-defined for $x \\in \\mathcal{R}^n$, your result should have exactly one more element than the input `ts`."
      ]
    },
    {
      "cell_type": "code",
      "execution_count": null,
      "id": "4355627a",
      "metadata": {
        "nbgrader": {
          "grade": false,
          "locked": true,
          "solution": false
        },
        "tags": [
          "demo_data"
        ],
        "id": "4355627a"
      },
      "outputs": [],
      "source": [
        "### Define demo inputs\n",
        "\n",
        "demo_ts_ex6 = np.array([100., 105., 120., 110., 115.])"
      ]
    },
    {
      "cell_type": "markdown",
      "id": "b77a12d9",
      "metadata": {
        "nbgrader": {
          "grade": false,
          "locked": true,
          "solution": false
        },
        "tags": [
          "demo_output_md"
        ],
        "id": "b77a12d9"
      },
      "source": [
        "<!-- Expected demo output text block -->\n",
        "The demo included in the solution cell below should display the following output:\n",
        "```\n",
        "[nan 100. 102.5   111.25     110.625      112.8125]\n",
        "[nan 100. 105.    122.5      120.         118.75]\n",
        "[nan 100. 103.75  117.1875   117.109375   119.04296875]\n",
        "[nan 100. 101.875 109.296875 112.45117188 116.38549805]\n",
        "```\n",
        "The demo below performs 4 runs with your solution. Each run with different `alpha` or `beta` parameters."
      ]
    },
    {
      "cell_type": "code",
      "execution_count": null,
      "id": "a2d55782",
      "metadata": {
        "tags": [
          "exercise_solution"
        ],
        "id": "a2d55782"
      },
      "outputs": [],
      "source": [
        "### Exercise 6 solution\n",
        "def double_exp_smoothing(ts, alpha, beta):\n",
        "    ### YOUR CODE HERE\n",
        "\n",
        "print(double_exp_smoothing(demo_ts_ex6, alpha=0.5, beta=0))\n",
        "print(double_exp_smoothing(demo_ts_ex6, alpha=0.5, beta=1))\n",
        "print(double_exp_smoothing(demo_ts_ex6, alpha=0.5, beta=0.5))\n",
        "print(double_exp_smoothing(demo_ts_ex6, alpha=0.25, beta=0.5))"
      ]
    },
    {
      "cell_type": "markdown",
      "id": "0411e55a",
      "metadata": {
        "nbgrader": {
          "grade": false,
          "locked": true,
          "solution": false
        },
        "tags": [
          "test_data_boilerplate"
        ],
        "id": "0411e55a"
      },
      "source": [
        "<!-- Test Cell Boilerplate -->\n",
        "The cell below will test your solution for Exercise 6. The testing variables will be available for debugging under the following names in a dictionary format.\n",
        "- `input_vars` - Input variables for your solution.\n",
        "- `original_input_vars` - Copy of input variables from prior to running your solution. These _should_ be the same as `input_vars` - otherwise the inputs were modified by your solution.\n",
        "- `returned_output_vars` - Outputs returned by your solution.\n",
        "- `true_output_vars` - The expected output. This _should_ \"match\" `returned_output_vars` based on the question requirements - otherwise, your solution is not returning the correct output."
      ]
    },
    {
      "cell_type": "code",
      "execution_count": null,
      "id": "4dc32517",
      "metadata": {
        "nbgrader": {
          "grade": true,
          "grade_id": "ex6",
          "locked": true,
          "points": "2",
          "solution": false
        },
        "tags": [],
        "id": "4dc32517"
      },
      "outputs": [],
      "source": [
        "### test_cell_ex6\n",
        "from tester_fw.testers import Tester\n",
        "\n",
        "conf = {\n",
        "    'case_file':'tc_6',\n",
        "    'func': double_exp_smoothing, # replace this with the function defined above\n",
        "    'inputs':{ # input config dict. keys are parameter names\n",
        "        'ts':{\n",
        "            'dtype':'np.ndarray', # data type of param.\n",
        "            'check_modified':True,\n",
        "        },\n",
        "        'alpha':{\n",
        "            'dtype':'float', # data type of param.\n",
        "            'check_modified':True,\n",
        "        },\n",
        "        'beta':{\n",
        "            'dtype':'float', # data type of param.\n",
        "            'check_modified':True,\n",
        "        }\n",
        "    },\n",
        "    'outputs':{\n",
        "        'output_0':{\n",
        "            'index':0,\n",
        "            'dtype':'np.ndarray',\n",
        "            'check_dtype': True,\n",
        "            'check_col_dtypes': True, # Ignored if dtype is not df\n",
        "            'check_col_order': True, # Ignored if dtype is not df\n",
        "            'check_row_order': True, # Ignored if dtype is not df\n",
        "            'check_column_type': True, # Ignored if dtype is not df\n",
        "            'float_tolerance': 10 ** (-6)\n",
        "        }\n",
        "    }\n",
        "}\n",
        "tester = Tester(conf, key=b'z0BNF11iKYQicR63590bVXZGa19YGvJcmzrbP6R7oAY=', path='')\n",
        "for _ in range(70):\n",
        "    try:\n",
        "        tester.run_test()\n",
        "        (input_vars, original_input_vars, returned_output_vars, true_output_vars) = tester.get_test_vars()\n",
        "    except:\n",
        "        (input_vars, original_input_vars, returned_output_vars, true_output_vars) = tester.get_test_vars()\n",
        "        raise\n",
        "\n",
        "print('Passed! Please submit.')"
      ]
    }
  ],
  "metadata": {
    "kernelspec": {
      "display_name": "Python 3 (ipykernel)",
      "language": "python",
      "name": "python3"
    },
    "language_info": {
      "codemirror_mode": {
        "name": "ipython",
        "version": 3
      },
      "file_extension": ".py",
      "mimetype": "text/x-python",
      "name": "python",
      "nbconvert_exporter": "python",
      "pygments_lexer": "ipython3",
      "version": "3.9.13"
    },
    "vscode": {
      "interpreter": {
        "hash": "916dbcbb3f70747c44a77c7bcd40155683ae19c65e1c03b4aa3499c5328201f1"
      }
    },
    "colab": {
      "provenance": [],
      "include_colab_link": true
    }
  },
  "nbformat": 4,
  "nbformat_minor": 5
}